{
 "cells": [
  {
   "cell_type": "markdown",
   "id": "c64a9f5e",
   "metadata": {},
   "source": [
    "# TEMA 1DATA SCIENCE: S01.T01: Exercici 1,2,3\n",
    "## Created by: *Dani Planas Montserrat*\n",
    "### Codi en Markdown Per més informació: (https://www.google.es)\n",
    "\n",
    "![Images](Images/python.png)\n",
    "\n",
    "| Clase | Dia | Data |\n",
    "| ----- | --- | ----- |\n",
    "| 1 | Dilluns | 22/6/2022 |\n",
    "| 2 | Dimarts | 23/6/2022 |\n",
    "| 3 | Dimecres | 24/6/2022 |\n",
    "| 4 | Divendres | 26/6/2022 |"
   ]
  },
  {
   "cell_type": "code",
   "execution_count": 9,
   "id": "4ab7e7a7",
   "metadata": {
    "code_folding": [
     31,
     40,
     42
    ],
    "run_control": {
     "marked": false
    }
   },
   "outputs": [
    {
     "name": "stdout",
     "output_type": "stream",
     "text": [
      "Valor de X: 44\n",
      "Valor de Y: 4400\n",
      "Valor de vReal1: 6.0\n",
      "Valor de vReal2: 25.0\n",
      "SPRINT 01 .TASCA 1. Autor: Dani Planas Montserrat\n",
      "Tenim SPRINT al text 1:True\n",
      "[4, 5, 1, 2, 3, 7, 4, 5, 1, 2, 3, 7]\n",
      "Tenim el 3 a la llista? :False\n",
      "Tenim el número 3 a la Llista: Si\n",
      "El color verd està a la Posició: 1\n",
      "['groc', 'vermell', 'verd', 'gris']\n",
      "['groc', 'vermell', 'verd', 'gris', 'Rosa']\n",
      "['groc', 'vermell', 'verd', 'lila', 'gris', 'Rosa']\n",
      "None\n"
     ]
    }
   ],
   "source": [
    "##########################################################################\n",
    "##           DATA SCIENCE: S01.T01: Nivell 1 Exercici 1,2,3             ##\n",
    "##########################################################################\n",
    "# Created by: Dani Planas Montserrat\n",
    "# Code in Python\n",
    "\n",
    "## create Variables\n",
    "x,y = 34, 100                                #variables to strings\n",
    "text1, text2 = \"SPRINT 01\", \" .TASCA 1. \"    #variables to integers\n",
    "vReal1,vReal2 = 5.0 , 3.5                    #variables to floats\n",
    "check = False                                #variables to booleans\n",
    "myList1 = [4,5,1,2,3,7]                      #create Lists\n",
    "myList2 = [\"groc\",\"vermell\",\"verd\",\"gris\"]   #create Lists\n",
    "\n",
    "## mathematic operations with integer\n",
    "x += 10\n",
    "y = x*y\n",
    "print (\"Valor de X: \" + str(x))              #we use casting\n",
    "print (\"Valor de Y: \" + str(y))              #we use casting\n",
    "\n",
    "## mathematic operations with double\n",
    "vReal1 += 1\n",
    "vReal2 = (vReal1 - vReal2)*10.0\n",
    "print (\"Valor de vReal1: \" + str(vReal1))    #we use casting\n",
    "print (\"Valor de vReal2: \" + str(vReal2))    #we use casting\n",
    "\n",
    "## Strings operations\n",
    "print (text1 + text2 + \"Autor: Dani Planas Montserrat\")\n",
    "print (\"Tenim SPRINT al text 1:\" + str(\"SPRINT\" in text1))\n",
    "\n",
    "## operations with booleans\n",
    "if (check != False):\n",
    "    print (myList1)\n",
    "else:\n",
    "    print (myList1*2)\n",
    "\n",
    "print (\"Tenim el 3 a la llista? :\" + str(30 in myList1))\n",
    "    \n",
    "    \n",
    "## operations with List\n",
    "if ((3 in myList1)==True):\n",
    "    auxTxt=\"Si\"\n",
    "else:\n",
    "    auxTxt=\"No\"\n",
    "print (\"Tenim el número 3 a la Llista: \" + auxTxt)\n",
    "print (\"El color verd està a la Posició: \" + str(myList2.count(\"verd\")))\n",
    "print (myList2)\n",
    "myList2.append(\"Rosa\")\n",
    "print (myList2)\n",
    "myList2.insert(3,\"lila\")\n",
    "print (myList2)\n",
    "print (myList2.reverse())\n"
   ]
  },
  {
   "cell_type": "code",
   "execution_count": null,
   "id": "add1e5df",
   "metadata": {},
   "outputs": [],
   "source": [
    "## operations with nbExtensions\n",
    "\n"
   ]
  },
  {
   "cell_type": "markdown",
   "id": "c90b6908",
   "metadata": {},
   "source": [
    "# Level 1"
   ]
  },
  {
   "cell_type": "markdown",
   "id": "d920b983",
   "metadata": {},
   "source": [
    "## Sublevel 1"
   ]
  },
  {
   "cell_type": "code",
   "execution_count": 1,
   "id": "888dd1d1",
   "metadata": {},
   "outputs": [
    {
     "data": {
      "text/plain": [
       "14"
      ]
     },
     "execution_count": 1,
     "metadata": {},
     "output_type": "execute_result"
    }
   ],
   "source": [
    "5+9"
   ]
  },
  {
   "cell_type": "code",
   "execution_count": null,
   "id": "6037cfa8",
   "metadata": {},
   "outputs": [],
   "source": []
  }
 ],
 "metadata": {
  "celltoolbar": "Raw Cell Format",
  "hide_input": false,
  "kernelspec": {
   "display_name": "Python 3 (ipykernel)",
   "language": "python",
   "name": "python3"
  },
  "language_info": {
   "codemirror_mode": {
    "name": "ipython",
    "version": 3
   },
   "file_extension": ".py",
   "mimetype": "text/x-python",
   "name": "python",
   "nbconvert_exporter": "python",
   "pygments_lexer": "ipython3",
   "version": "3.9.7"
  },
  "nbTranslate": {
   "displayLangs": [
    "es"
   ],
   "hotkey": "alt-t",
   "langInMainMenu": true,
   "sourceLang": "en",
   "targetLang": "es",
   "useGoogleTranslate": true
  },
  "toc": {
   "base_numbering": 1,
   "nav_menu": {},
   "number_sections": true,
   "sideBar": true,
   "skip_h1_title": false,
   "title_cell": "Table of Contents",
   "title_sidebar": "Contents",
   "toc_cell": false,
   "toc_position": {
    "height": "789px",
    "left": "69px",
    "top": "189px",
    "width": "384px"
   },
   "toc_section_display": true,
   "toc_window_display": false
  },
  "varInspector": {
   "cols": {
    "lenName": 16,
    "lenType": 16,
    "lenVar": 40
   },
   "kernels_config": {
    "python": {
     "delete_cmd_postfix": "",
     "delete_cmd_prefix": "del ",
     "library": "var_list.py",
     "varRefreshCmd": "print(var_dic_list())"
    },
    "r": {
     "delete_cmd_postfix": ") ",
     "delete_cmd_prefix": "rm(",
     "library": "var_list.r",
     "varRefreshCmd": "cat(var_dic_list()) "
    }
   },
   "position": {
    "height": "442.844px",
    "left": "1470px",
    "right": "20px",
    "top": "124px",
    "width": "332px"
   },
   "types_to_exclude": [
    "module",
    "function",
    "builtin_function_or_method",
    "instance",
    "_Feature"
   ],
   "window_display": true
  }
 },
 "nbformat": 4,
 "nbformat_minor": 5
}
